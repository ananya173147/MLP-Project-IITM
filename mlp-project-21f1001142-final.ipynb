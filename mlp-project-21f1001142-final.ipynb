{
 "cells": [
  {
   "cell_type": "code",
   "execution_count": 1,
   "id": "b2a23735",
   "metadata": {
    "_cell_guid": "b1076dfc-b9ad-4769-8c92-a6c4dae69d19",
    "_uuid": "8f2839f25d086af736a60e9eeb907d3b93b6e0e5",
    "execution": {
     "iopub.execute_input": "2022-09-11T17:25:27.589696Z",
     "iopub.status.busy": "2022-09-11T17:25:27.589184Z",
     "iopub.status.idle": "2022-09-11T17:25:27.602848Z",
     "shell.execute_reply": "2022-09-11T17:25:27.601993Z"
    },
    "papermill": {
     "duration": 0.02529,
     "end_time": "2022-09-11T17:25:27.605597",
     "exception": false,
     "start_time": "2022-09-11T17:25:27.580307",
     "status": "completed"
    },
    "tags": []
   },
   "outputs": [
    {
     "name": "stdout",
     "output_type": "stream",
     "text": [
      "/kaggle/input/students-drop-out-prediction/train.csv\n",
      "/kaggle/input/students-drop-out-prediction/test.csv\n"
     ]
    }
   ],
   "source": [
    "import numpy as np # linear algebra\n",
    "import pandas as pd # data processing, CSV file I/O (e.g. pd.read_csv)\n",
    "\n",
    "import os\n",
    "for dirname, _, filenames in os.walk('/kaggle/input'):\n",
    "    for filename in filenames:\n",
    "        print(os.path.join(dirname, filename))"
   ]
  },
  {
   "cell_type": "code",
   "execution_count": 2,
   "id": "67f174ea",
   "metadata": {
    "execution": {
     "iopub.execute_input": "2022-09-11T17:25:27.620630Z",
     "iopub.status.busy": "2022-09-11T17:25:27.620037Z",
     "iopub.status.idle": "2022-09-11T17:25:27.676189Z",
     "shell.execute_reply": "2022-09-11T17:25:27.674790Z"
    },
    "papermill": {
     "duration": 0.067272,
     "end_time": "2022-09-11T17:25:27.679068",
     "exception": false,
     "start_time": "2022-09-11T17:25:27.611796",
     "status": "completed"
    },
    "tags": []
   },
   "outputs": [
    {
     "name": "stdout",
     "output_type": "stream",
     "text": [
      "(3796, 43)\n",
      "(1628, 42)\n"
     ]
    }
   ],
   "source": [
    "# Loading data\n",
    "\n",
    "train=pd.read_csv('../input/students-drop-out-prediction/train.csv')\n",
    "test=pd.read_csv('../input/students-drop-out-prediction/test.csv')\n",
    "print(train.shape)\n",
    "print(test.shape)"
   ]
  },
  {
   "cell_type": "code",
   "execution_count": 3,
   "id": "332082e5",
   "metadata": {
    "execution": {
     "iopub.execute_input": "2022-09-11T17:25:27.693525Z",
     "iopub.status.busy": "2022-09-11T17:25:27.692789Z",
     "iopub.status.idle": "2022-09-11T17:25:27.725928Z",
     "shell.execute_reply": "2022-09-11T17:25:27.725089Z"
    },
    "papermill": {
     "duration": 0.043578,
     "end_time": "2022-09-11T17:25:27.728959",
     "exception": false,
     "start_time": "2022-09-11T17:25:27.685381",
     "status": "completed"
    },
    "tags": []
   },
   "outputs": [
    {
     "data": {
      "text/html": [
       "<div>\n",
       "<style scoped>\n",
       "    .dataframe tbody tr th:only-of-type {\n",
       "        vertical-align: middle;\n",
       "    }\n",
       "\n",
       "    .dataframe tbody tr th {\n",
       "        vertical-align: top;\n",
       "    }\n",
       "\n",
       "    .dataframe thead th {\n",
       "        text-align: right;\n",
       "    }\n",
       "</style>\n",
       "<table border=\"1\" class=\"dataframe\">\n",
       "  <thead>\n",
       "    <tr style=\"text-align: right;\">\n",
       "      <th></th>\n",
       "      <th>id</th>\n",
       "      <th>v_21</th>\n",
       "      <th>v_32</th>\n",
       "      <th>v_15</th>\n",
       "      <th>v_4</th>\n",
       "      <th>v_1</th>\n",
       "      <th>v_8</th>\n",
       "      <th>v_12</th>\n",
       "      <th>v_25</th>\n",
       "      <th>v_20</th>\n",
       "      <th>...</th>\n",
       "      <th>v_2</th>\n",
       "      <th>v_16</th>\n",
       "      <th>v_34</th>\n",
       "      <th>v_35</th>\n",
       "      <th>v_36</th>\n",
       "      <th>v_37</th>\n",
       "      <th>v_38</th>\n",
       "      <th>v_39</th>\n",
       "      <th>v_40</th>\n",
       "      <th>label</th>\n",
       "    </tr>\n",
       "  </thead>\n",
       "  <tbody>\n",
       "    <tr>\n",
       "      <th>0</th>\n",
       "      <td>0</td>\n",
       "      <td>3</td>\n",
       "      <td>6</td>\n",
       "      <td>11</td>\n",
       "      <td>55</td>\n",
       "      <td>1</td>\n",
       "      <td>1</td>\n",
       "      <td>16</td>\n",
       "      <td>5</td>\n",
       "      <td>60</td>\n",
       "      <td>...</td>\n",
       "      <td>-0.3</td>\n",
       "      <td>0.79</td>\n",
       "      <td>1</td>\n",
       "      <td>93</td>\n",
       "      <td>47</td>\n",
       "      <td>1</td>\n",
       "      <td>48</td>\n",
       "      <td>26</td>\n",
       "      <td>0</td>\n",
       "      <td>1</td>\n",
       "    </tr>\n",
       "    <tr>\n",
       "      <th>1</th>\n",
       "      <td>1</td>\n",
       "      <td>8</td>\n",
       "      <td>94</td>\n",
       "      <td>12</td>\n",
       "      <td>65</td>\n",
       "      <td>1</td>\n",
       "      <td>4</td>\n",
       "      <td>22</td>\n",
       "      <td>4</td>\n",
       "      <td>173</td>\n",
       "      <td>...</td>\n",
       "      <td>5.4</td>\n",
       "      <td>6.51</td>\n",
       "      <td>6</td>\n",
       "      <td>29</td>\n",
       "      <td>37</td>\n",
       "      <td>25</td>\n",
       "      <td>53</td>\n",
       "      <td>35</td>\n",
       "      <td>7</td>\n",
       "      <td>2</td>\n",
       "    </tr>\n",
       "    <tr>\n",
       "      <th>2</th>\n",
       "      <td>2</td>\n",
       "      <td>3</td>\n",
       "      <td>166</td>\n",
       "      <td>10</td>\n",
       "      <td>155</td>\n",
       "      <td>1</td>\n",
       "      <td>1</td>\n",
       "      <td>16</td>\n",
       "      <td>1</td>\n",
       "      <td>309</td>\n",
       "      <td>...</td>\n",
       "      <td>0.6</td>\n",
       "      <td>2.02</td>\n",
       "      <td>1</td>\n",
       "      <td>8</td>\n",
       "      <td>34</td>\n",
       "      <td>4</td>\n",
       "      <td>43</td>\n",
       "      <td>38</td>\n",
       "      <td>2</td>\n",
       "      <td>1</td>\n",
       "    </tr>\n",
       "    <tr>\n",
       "      <th>3</th>\n",
       "      <td>3</td>\n",
       "      <td>3</td>\n",
       "      <td>6</td>\n",
       "      <td>13</td>\n",
       "      <td>121</td>\n",
       "      <td>1</td>\n",
       "      <td>1</td>\n",
       "      <td>16</td>\n",
       "      <td>1</td>\n",
       "      <td>6</td>\n",
       "      <td>...</td>\n",
       "      <td>0.6</td>\n",
       "      <td>2.02</td>\n",
       "      <td>7</td>\n",
       "      <td>37</td>\n",
       "      <td>40</td>\n",
       "      <td>27</td>\n",
       "      <td>43</td>\n",
       "      <td>65</td>\n",
       "      <td>0</td>\n",
       "      <td>1</td>\n",
       "    </tr>\n",
       "    <tr>\n",
       "      <th>4</th>\n",
       "      <td>4</td>\n",
       "      <td>4</td>\n",
       "      <td>51</td>\n",
       "      <td>18</td>\n",
       "      <td>21</td>\n",
       "      <td>1</td>\n",
       "      <td>17</td>\n",
       "      <td>22</td>\n",
       "      <td>118</td>\n",
       "      <td>168</td>\n",
       "      <td>...</td>\n",
       "      <td>8.4</td>\n",
       "      <td>12.51</td>\n",
       "      <td>16</td>\n",
       "      <td>22</td>\n",
       "      <td>25</td>\n",
       "      <td>25</td>\n",
       "      <td>24</td>\n",
       "      <td>23</td>\n",
       "      <td>1</td>\n",
       "      <td>1</td>\n",
       "    </tr>\n",
       "  </tbody>\n",
       "</table>\n",
       "<p>5 rows × 43 columns</p>\n",
       "</div>"
      ],
      "text/plain": [
       "   id  v_21  v_32  v_15  v_4  v_1  v_8  v_12  v_25  v_20  ...  v_2   v_16  \\\n",
       "0   0     3     6    11   55    1    1    16     5    60  ... -0.3   0.79   \n",
       "1   1     8    94    12   65    1    4    22     4   173  ...  5.4   6.51   \n",
       "2   2     3   166    10  155    1    1    16     1   309  ...  0.6   2.02   \n",
       "3   3     3     6    13  121    1    1    16     1     6  ...  0.6   2.02   \n",
       "4   4     4    51    18   21    1   17    22   118   168  ...  8.4  12.51   \n",
       "\n",
       "   v_34  v_35  v_36  v_37  v_38  v_39  v_40  label  \n",
       "0     1    93    47     1    48    26     0      1  \n",
       "1     6    29    37    25    53    35     7      2  \n",
       "2     1     8    34     4    43    38     2      1  \n",
       "3     7    37    40    27    43    65     0      1  \n",
       "4    16    22    25    25    24    23     1      1  \n",
       "\n",
       "[5 rows x 43 columns]"
      ]
     },
     "execution_count": 3,
     "metadata": {},
     "output_type": "execute_result"
    }
   ],
   "source": [
    "train.head()"
   ]
  },
  {
   "cell_type": "code",
   "execution_count": 4,
   "id": "c97f88f2",
   "metadata": {
    "execution": {
     "iopub.execute_input": "2022-09-11T17:25:27.743985Z",
     "iopub.status.busy": "2022-09-11T17:25:27.743594Z",
     "iopub.status.idle": "2022-09-11T17:25:27.766206Z",
     "shell.execute_reply": "2022-09-11T17:25:27.765060Z"
    },
    "papermill": {
     "duration": 0.032933,
     "end_time": "2022-09-11T17:25:27.768653",
     "exception": false,
     "start_time": "2022-09-11T17:25:27.735720",
     "status": "completed"
    },
    "tags": []
   },
   "outputs": [
    {
     "data": {
      "text/html": [
       "<div>\n",
       "<style scoped>\n",
       "    .dataframe tbody tr th:only-of-type {\n",
       "        vertical-align: middle;\n",
       "    }\n",
       "\n",
       "    .dataframe tbody tr th {\n",
       "        vertical-align: top;\n",
       "    }\n",
       "\n",
       "    .dataframe thead th {\n",
       "        text-align: right;\n",
       "    }\n",
       "</style>\n",
       "<table border=\"1\" class=\"dataframe\">\n",
       "  <thead>\n",
       "    <tr style=\"text-align: right;\">\n",
       "      <th></th>\n",
       "      <th>id</th>\n",
       "      <th>v_21</th>\n",
       "      <th>v_32</th>\n",
       "      <th>v_15</th>\n",
       "      <th>v_4</th>\n",
       "      <th>v_1</th>\n",
       "      <th>v_8</th>\n",
       "      <th>v_12</th>\n",
       "      <th>v_25</th>\n",
       "      <th>v_20</th>\n",
       "      <th>...</th>\n",
       "      <th>v_7</th>\n",
       "      <th>v_2</th>\n",
       "      <th>v_16</th>\n",
       "      <th>v_34</th>\n",
       "      <th>v_35</th>\n",
       "      <th>v_36</th>\n",
       "      <th>v_37</th>\n",
       "      <th>v_38</th>\n",
       "      <th>v_39</th>\n",
       "      <th>v_40</th>\n",
       "    </tr>\n",
       "  </thead>\n",
       "  <tbody>\n",
       "    <tr>\n",
       "      <th>0</th>\n",
       "      <td>0</td>\n",
       "      <td>9</td>\n",
       "      <td>90</td>\n",
       "      <td>15</td>\n",
       "      <td>121</td>\n",
       "      <td>1</td>\n",
       "      <td>8</td>\n",
       "      <td>23</td>\n",
       "      <td>114</td>\n",
       "      <td>256</td>\n",
       "      <td>...</td>\n",
       "      <td>10.8</td>\n",
       "      <td>10.4</td>\n",
       "      <td>6.74</td>\n",
       "      <td>4</td>\n",
       "      <td>96</td>\n",
       "      <td>36</td>\n",
       "      <td>34</td>\n",
       "      <td>23</td>\n",
       "      <td>72</td>\n",
       "      <td>5</td>\n",
       "    </tr>\n",
       "    <tr>\n",
       "      <th>1</th>\n",
       "      <td>1</td>\n",
       "      <td>7</td>\n",
       "      <td>123</td>\n",
       "      <td>14</td>\n",
       "      <td>126</td>\n",
       "      <td>1</td>\n",
       "      <td>5</td>\n",
       "      <td>19</td>\n",
       "      <td>3</td>\n",
       "      <td>40</td>\n",
       "      <td>...</td>\n",
       "      <td>19.4</td>\n",
       "      <td>0.5</td>\n",
       "      <td>6.79</td>\n",
       "      <td>15</td>\n",
       "      <td>78</td>\n",
       "      <td>12</td>\n",
       "      <td>25</td>\n",
       "      <td>27</td>\n",
       "      <td>67</td>\n",
       "      <td>12</td>\n",
       "    </tr>\n",
       "    <tr>\n",
       "      <th>2</th>\n",
       "      <td>2</td>\n",
       "      <td>3</td>\n",
       "      <td>6</td>\n",
       "      <td>10</td>\n",
       "      <td>102</td>\n",
       "      <td>1</td>\n",
       "      <td>1</td>\n",
       "      <td>16</td>\n",
       "      <td>181</td>\n",
       "      <td>168</td>\n",
       "      <td>...</td>\n",
       "      <td>7.6</td>\n",
       "      <td>2.6</td>\n",
       "      <td>0.32</td>\n",
       "      <td>4</td>\n",
       "      <td>81</td>\n",
       "      <td>47</td>\n",
       "      <td>30</td>\n",
       "      <td>54</td>\n",
       "      <td>23</td>\n",
       "      <td>4</td>\n",
       "    </tr>\n",
       "    <tr>\n",
       "      <th>3</th>\n",
       "      <td>3</td>\n",
       "      <td>3</td>\n",
       "      <td>6</td>\n",
       "      <td>10</td>\n",
       "      <td>148</td>\n",
       "      <td>1</td>\n",
       "      <td>1</td>\n",
       "      <td>16</td>\n",
       "      <td>110</td>\n",
       "      <td>278</td>\n",
       "      <td>...</td>\n",
       "      <td>11.1</td>\n",
       "      <td>0.6</td>\n",
       "      <td>2.02</td>\n",
       "      <td>4</td>\n",
       "      <td>100</td>\n",
       "      <td>6</td>\n",
       "      <td>23</td>\n",
       "      <td>12</td>\n",
       "      <td>28</td>\n",
       "      <td>1</td>\n",
       "    </tr>\n",
       "    <tr>\n",
       "      <th>4</th>\n",
       "      <td>4</td>\n",
       "      <td>3</td>\n",
       "      <td>6</td>\n",
       "      <td>10</td>\n",
       "      <td>148</td>\n",
       "      <td>1</td>\n",
       "      <td>1</td>\n",
       "      <td>16</td>\n",
       "      <td>1</td>\n",
       "      <td>168</td>\n",
       "      <td>...</td>\n",
       "      <td>7.6</td>\n",
       "      <td>2.6</td>\n",
       "      <td>0.32</td>\n",
       "      <td>7</td>\n",
       "      <td>97</td>\n",
       "      <td>25</td>\n",
       "      <td>30</td>\n",
       "      <td>18</td>\n",
       "      <td>52</td>\n",
       "      <td>0</td>\n",
       "    </tr>\n",
       "  </tbody>\n",
       "</table>\n",
       "<p>5 rows × 42 columns</p>\n",
       "</div>"
      ],
      "text/plain": [
       "   id  v_21  v_32  v_15  v_4  v_1  v_8  v_12  v_25  v_20  ...   v_7   v_2  \\\n",
       "0   0     9    90    15  121    1    8    23   114   256  ...  10.8  10.4   \n",
       "1   1     7   123    14  126    1    5    19     3    40  ...  19.4   0.5   \n",
       "2   2     3     6    10  102    1    1    16   181   168  ...   7.6   2.6   \n",
       "3   3     3     6    10  148    1    1    16   110   278  ...  11.1   0.6   \n",
       "4   4     3     6    10  148    1    1    16     1   168  ...   7.6   2.6   \n",
       "\n",
       "   v_16  v_34  v_35  v_36  v_37  v_38  v_39  v_40  \n",
       "0  6.74     4    96    36    34    23    72     5  \n",
       "1  6.79    15    78    12    25    27    67    12  \n",
       "2  0.32     4    81    47    30    54    23     4  \n",
       "3  2.02     4   100     6    23    12    28     1  \n",
       "4  0.32     7    97    25    30    18    52     0  \n",
       "\n",
       "[5 rows x 42 columns]"
      ]
     },
     "execution_count": 4,
     "metadata": {},
     "output_type": "execute_result"
    }
   ],
   "source": [
    "test.head()"
   ]
  },
  {
   "cell_type": "code",
   "execution_count": 5,
   "id": "04f613fd",
   "metadata": {
    "execution": {
     "iopub.execute_input": "2022-09-11T17:25:27.783961Z",
     "iopub.status.busy": "2022-09-11T17:25:27.783545Z",
     "iopub.status.idle": "2022-09-11T17:25:27.794757Z",
     "shell.execute_reply": "2022-09-11T17:25:27.793559Z"
    },
    "papermill": {
     "duration": 0.022013,
     "end_time": "2022-09-11T17:25:27.797370",
     "exception": false,
     "start_time": "2022-09-11T17:25:27.775357",
     "status": "completed"
    },
    "tags": []
   },
   "outputs": [],
   "source": [
    "X_train=train.drop('label',axis=1)\n",
    "y_train=train['label']\n",
    "X_test=test"
   ]
  },
  {
   "cell_type": "code",
   "execution_count": 6,
   "id": "0ed8c62c",
   "metadata": {
    "execution": {
     "iopub.execute_input": "2022-09-11T17:25:27.812883Z",
     "iopub.status.busy": "2022-09-11T17:25:27.812474Z",
     "iopub.status.idle": "2022-09-11T17:25:27.837185Z",
     "shell.execute_reply": "2022-09-11T17:25:27.835114Z"
    },
    "papermill": {
     "duration": 0.035698,
     "end_time": "2022-09-11T17:25:27.840229",
     "exception": false,
     "start_time": "2022-09-11T17:25:27.804531",
     "status": "completed"
    },
    "tags": []
   },
   "outputs": [
    {
     "name": "stdout",
     "output_type": "stream",
     "text": [
      "<class 'pandas.core.frame.DataFrame'>\n",
      "RangeIndex: 3796 entries, 0 to 3795\n",
      "Data columns (total 43 columns):\n",
      " #   Column  Non-Null Count  Dtype  \n",
      "---  ------  --------------  -----  \n",
      " 0   id      3796 non-null   int64  \n",
      " 1   v_21    3796 non-null   int64  \n",
      " 2   v_32    3796 non-null   int64  \n",
      " 3   v_15    3796 non-null   int64  \n",
      " 4   v_4     3796 non-null   int64  \n",
      " 5   v_1     3796 non-null   int64  \n",
      " 6   v_8     3796 non-null   int64  \n",
      " 7   v_12    3796 non-null   int64  \n",
      " 8   v_25    3796 non-null   int64  \n",
      " 9   v_20    3796 non-null   int64  \n",
      " 10  v_18    3796 non-null   int64  \n",
      " 11  v_3     3796 non-null   int64  \n",
      " 12  v_11    3796 non-null   int64  \n",
      " 13  v_14    3796 non-null   int64  \n",
      " 14  v_26    3796 non-null   int64  \n",
      " 15  v_27    3796 non-null   int64  \n",
      " 16  v_30    3796 non-null   int64  \n",
      " 17  v_9     3796 non-null   int64  \n",
      " 18  v_31    3796 non-null   int64  \n",
      " 19  v_28    3796 non-null   int64  \n",
      " 20  v_13    3796 non-null   int64  \n",
      " 21  v_33    3796 non-null   int64  \n",
      " 22  v_17    3796 non-null   int64  \n",
      " 23  v_19    3796 non-null   int64  \n",
      " 24  v_29    3796 non-null   int64  \n",
      " 25  v_23    3796 non-null   int64  \n",
      " 26  v_24    3796 non-null   int64  \n",
      " 27  v_10    3796 non-null   int64  \n",
      " 28  v_5     3796 non-null   int64  \n",
      " 29  v_6     3796 non-null   int64  \n",
      " 30  v_22    3796 non-null   int64  \n",
      " 31  v_0     3796 non-null   int64  \n",
      " 32  v_7     3796 non-null   float64\n",
      " 33  v_2     3796 non-null   float64\n",
      " 34  v_16    3796 non-null   float64\n",
      " 35  v_34    3796 non-null   int64  \n",
      " 36  v_35    3796 non-null   int64  \n",
      " 37  v_36    3796 non-null   int64  \n",
      " 38  v_37    3796 non-null   int64  \n",
      " 39  v_38    3796 non-null   int64  \n",
      " 40  v_39    3796 non-null   int64  \n",
      " 41  v_40    3796 non-null   int64  \n",
      " 42  label   3796 non-null   int64  \n",
      "dtypes: float64(3), int64(40)\n",
      "memory usage: 1.2 MB\n"
     ]
    }
   ],
   "source": [
    "train.info()"
   ]
  },
  {
   "cell_type": "code",
   "execution_count": 7,
   "id": "d467d1f1",
   "metadata": {
    "execution": {
     "iopub.execute_input": "2022-09-11T17:25:27.855727Z",
     "iopub.status.busy": "2022-09-11T17:25:27.855062Z",
     "iopub.status.idle": "2022-09-11T17:25:27.862261Z",
     "shell.execute_reply": "2022-09-11T17:25:27.861458Z"
    },
    "papermill": {
     "duration": 0.01782,
     "end_time": "2022-09-11T17:25:27.864966",
     "exception": false,
     "start_time": "2022-09-11T17:25:27.847146",
     "status": "completed"
    },
    "tags": []
   },
   "outputs": [
    {
     "name": "stdout",
     "output_type": "stream",
     "text": [
      "[0, 0, 0, 0, 0, 0, 0, 0, 0, 0, 0, 0, 0, 0, 0, 0, 0, 0, 0, 0, 0, 0, 0, 0, 0, 0, 0, 0, 0, 0, 0, 0, 0, 0, 0, 0, 0, 0, 0, 0, 0, 0, 0]\n"
     ]
    }
   ],
   "source": [
    "print(list(train.isna().sum()))"
   ]
  },
  {
   "cell_type": "code",
   "execution_count": 8,
   "id": "a7345eac",
   "metadata": {
    "execution": {
     "iopub.execute_input": "2022-09-11T17:25:27.880338Z",
     "iopub.status.busy": "2022-09-11T17:25:27.879923Z",
     "iopub.status.idle": "2022-09-11T17:25:29.163694Z",
     "shell.execute_reply": "2022-09-11T17:25:29.162345Z"
    },
    "papermill": {
     "duration": 1.294588,
     "end_time": "2022-09-11T17:25:29.166318",
     "exception": false,
     "start_time": "2022-09-11T17:25:27.871730",
     "status": "completed"
    },
    "tags": []
   },
   "outputs": [
    {
     "data": {
      "text/plain": [
       "0.49077976817702845"
      ]
     },
     "execution_count": 8,
     "metadata": {},
     "output_type": "execute_result"
    }
   ],
   "source": [
    "from sklearn.metrics import f1_score\n",
    "from sklearn.preprocessing import StandardScaler\n",
    "s=StandardScaler()\n",
    "scaled_X_train=s.fit_transform(X_train)\n",
    "scaled_X_test=s.fit_transform(test)\n",
    "\n",
    "# baseline model \n",
    "from sklearn.dummy import DummyClassifier\n",
    "# strategy{“most_frequent”, “prior”, “stratified”, “uniform”, “constant”}, default=”prior”\n",
    "dummy_clf = DummyClassifier(random_state=42)\n",
    "dummy_clf.fit(scaled_X_train,y_train)\n",
    "f1_score(y_train,dummy_clf.predict(scaled_X_train),average='micro')"
   ]
  },
  {
   "cell_type": "code",
   "execution_count": 9,
   "id": "0d31b5e7",
   "metadata": {
    "execution": {
     "iopub.execute_input": "2022-09-11T17:25:29.184594Z",
     "iopub.status.busy": "2022-09-11T17:25:29.183576Z",
     "iopub.status.idle": "2022-09-11T17:25:31.850253Z",
     "shell.execute_reply": "2022-09-11T17:25:31.848541Z"
    },
    "papermill": {
     "duration": 2.680999,
     "end_time": "2022-09-11T17:25:31.854823",
     "exception": false,
     "start_time": "2022-09-11T17:25:29.173824",
     "status": "completed"
    },
    "tags": []
   },
   "outputs": [
    {
     "data": {
      "text/plain": [
       "0.7442044257112751"
      ]
     },
     "execution_count": 9,
     "metadata": {},
     "output_type": "execute_result"
    }
   ],
   "source": [
    "from sklearn.linear_model import LogisticRegressionCV\n",
    "lr=LogisticRegressionCV(cv=5,multi_class='multinomial', random_state=42)\n",
    "lr.fit(scaled_X_train,y_train)\n",
    "lr.score(scaled_X_train,y_train)\n",
    "f1_score(y_train,lr.predict(scaled_X_train),average='micro')"
   ]
  },
  {
   "cell_type": "code",
   "execution_count": 10,
   "id": "3aed2f94",
   "metadata": {
    "execution": {
     "iopub.execute_input": "2022-09-11T17:25:31.892771Z",
     "iopub.status.busy": "2022-09-11T17:25:31.892074Z",
     "iopub.status.idle": "2022-09-11T17:26:24.556725Z",
     "shell.execute_reply": "2022-09-11T17:26:24.554898Z"
    },
    "papermill": {
     "duration": 52.692038,
     "end_time": "2022-09-11T17:26:24.564869",
     "exception": false,
     "start_time": "2022-09-11T17:25:31.872831",
     "status": "completed"
    },
    "tags": []
   },
   "outputs": [
    {
     "name": "stderr",
     "output_type": "stream",
     "text": [
      "/opt/conda/lib/python3.7/site-packages/sklearn/linear_model/_logistic.py:818: ConvergenceWarning: lbfgs failed to converge (status=1):\n",
      "STOP: TOTAL NO. of ITERATIONS REACHED LIMIT.\n",
      "\n",
      "Increase the number of iterations (max_iter) or scale the data as shown in:\n",
      "    https://scikit-learn.org/stable/modules/preprocessing.html\n",
      "Please also refer to the documentation for alternative solver options:\n",
      "    https://scikit-learn.org/stable/modules/linear_model.html#logistic-regression\n",
      "  extra_warning_msg=_LOGISTIC_SOLVER_CONVERGENCE_MSG,\n",
      "/opt/conda/lib/python3.7/site-packages/sklearn/linear_model/_logistic.py:818: ConvergenceWarning: lbfgs failed to converge (status=1):\n",
      "STOP: TOTAL NO. of ITERATIONS REACHED LIMIT.\n",
      "\n",
      "Increase the number of iterations (max_iter) or scale the data as shown in:\n",
      "    https://scikit-learn.org/stable/modules/preprocessing.html\n",
      "Please also refer to the documentation for alternative solver options:\n",
      "    https://scikit-learn.org/stable/modules/linear_model.html#logistic-regression\n",
      "  extra_warning_msg=_LOGISTIC_SOLVER_CONVERGENCE_MSG,\n",
      "/opt/conda/lib/python3.7/site-packages/sklearn/linear_model/_logistic.py:818: ConvergenceWarning: lbfgs failed to converge (status=1):\n",
      "STOP: TOTAL NO. of ITERATIONS REACHED LIMIT.\n",
      "\n",
      "Increase the number of iterations (max_iter) or scale the data as shown in:\n",
      "    https://scikit-learn.org/stable/modules/preprocessing.html\n",
      "Please also refer to the documentation for alternative solver options:\n",
      "    https://scikit-learn.org/stable/modules/linear_model.html#logistic-regression\n",
      "  extra_warning_msg=_LOGISTIC_SOLVER_CONVERGENCE_MSG,\n",
      "/opt/conda/lib/python3.7/site-packages/sklearn/linear_model/_logistic.py:818: ConvergenceWarning: lbfgs failed to converge (status=1):\n",
      "STOP: TOTAL NO. of ITERATIONS REACHED LIMIT.\n",
      "\n",
      "Increase the number of iterations (max_iter) or scale the data as shown in:\n",
      "    https://scikit-learn.org/stable/modules/preprocessing.html\n",
      "Please also refer to the documentation for alternative solver options:\n",
      "    https://scikit-learn.org/stable/modules/linear_model.html#logistic-regression\n",
      "  extra_warning_msg=_LOGISTIC_SOLVER_CONVERGENCE_MSG,\n",
      "/opt/conda/lib/python3.7/site-packages/sklearn/linear_model/_logistic.py:818: ConvergenceWarning: lbfgs failed to converge (status=1):\n",
      "STOP: TOTAL NO. of ITERATIONS REACHED LIMIT.\n",
      "\n",
      "Increase the number of iterations (max_iter) or scale the data as shown in:\n",
      "    https://scikit-learn.org/stable/modules/preprocessing.html\n",
      "Please also refer to the documentation for alternative solver options:\n",
      "    https://scikit-learn.org/stable/modules/linear_model.html#logistic-regression\n",
      "  extra_warning_msg=_LOGISTIC_SOLVER_CONVERGENCE_MSG,\n",
      "/opt/conda/lib/python3.7/site-packages/sklearn/linear_model/_logistic.py:818: ConvergenceWarning: lbfgs failed to converge (status=1):\n",
      "STOP: TOTAL NO. of ITERATIONS REACHED LIMIT.\n",
      "\n",
      "Increase the number of iterations (max_iter) or scale the data as shown in:\n",
      "    https://scikit-learn.org/stable/modules/preprocessing.html\n",
      "Please also refer to the documentation for alternative solver options:\n",
      "    https://scikit-learn.org/stable/modules/linear_model.html#logistic-regression\n",
      "  extra_warning_msg=_LOGISTIC_SOLVER_CONVERGENCE_MSG,\n"
     ]
    },
    {
     "data": {
      "text/plain": [
       "0.8350895679662803"
      ]
     },
     "execution_count": 10,
     "metadata": {},
     "output_type": "execute_result"
    }
   ],
   "source": [
    "from sklearn.preprocessing import PolynomialFeatures\n",
    "\n",
    "poly = PolynomialFeatures(degree=2)\n",
    "X_poly = poly.fit_transform(scaled_X_train)\n",
    "\n",
    "lr_p=LogisticRegressionCV(cv=5, multi_class='multinomial', random_state=42, max_iter=100)\n",
    "lr_p.fit(X_poly,y_train)\n",
    "lr_p.score(X_poly,y_train)\n",
    "f1_score(y_train,lr_p.predict(X_poly),average='micro')"
   ]
  },
  {
   "cell_type": "code",
   "execution_count": 11,
   "id": "8ad8a3e5",
   "metadata": {
    "execution": {
     "iopub.execute_input": "2022-09-11T17:26:24.606619Z",
     "iopub.status.busy": "2022-09-11T17:26:24.605892Z",
     "iopub.status.idle": "2022-09-11T17:27:01.268215Z",
     "shell.execute_reply": "2022-09-11T17:27:01.266880Z"
    },
    "papermill": {
     "duration": 36.686396,
     "end_time": "2022-09-11T17:27:01.270990",
     "exception": false,
     "start_time": "2022-09-11T17:26:24.584594",
     "status": "completed"
    },
    "tags": []
   },
   "outputs": [
    {
     "name": "stdout",
     "output_type": "stream",
     "text": [
      "Fitting 5 folds for each of 48 candidates, totalling 240 fits\n",
      "{'algorithm': 'ball_tree', 'metric': 'manhattan', 'n_neighbors': 9, 'weights': 'uniform'}\n"
     ]
    },
    {
     "data": {
      "text/plain": [
       "0.7407797681770284"
      ]
     },
     "execution_count": 11,
     "metadata": {},
     "output_type": "execute_result"
    }
   ],
   "source": [
    "from sklearn.model_selection import GridSearchCV\n",
    "from sklearn.neighbors import KNeighborsClassifier\n",
    "\n",
    "param_grid = {'n_neighbors':[2,5,9,12],\n",
    "              'weights':['uniform','distance'],\n",
    "              'algorithm':['ball_tree', 'kd_tree', 'brute'],\n",
    "              'metric':['euclidean', 'manhattan']}\n",
    "\n",
    "knn = KNeighborsClassifier()\n",
    "\n",
    "grid_knn=GridSearchCV(knn,param_grid = param_grid,cv=5,verbose=True)\n",
    "grid_knn.fit(scaled_X_train,y_train)\n",
    "print(grid_knn.best_params_)\n",
    "f1_score(y_train,grid_knn.predict(scaled_X_train),average='micro')"
   ]
  },
  {
   "cell_type": "code",
   "execution_count": 12,
   "id": "adcfacc7",
   "metadata": {
    "execution": {
     "iopub.execute_input": "2022-09-11T17:27:01.288866Z",
     "iopub.status.busy": "2022-09-11T17:27:01.288446Z",
     "iopub.status.idle": "2022-09-11T17:29:57.090783Z",
     "shell.execute_reply": "2022-09-11T17:29:57.089844Z"
    },
    "papermill": {
     "duration": 175.813866,
     "end_time": "2022-09-11T17:29:57.092991",
     "exception": false,
     "start_time": "2022-09-11T17:27:01.279125",
     "status": "completed"
    },
    "tags": []
   },
   "outputs": [
    {
     "name": "stdout",
     "output_type": "stream",
     "text": [
      "Fitting 5 folds for each of 32 candidates, totalling 160 fits\n",
      "{'C': 1, 'gamma': 'scale', 'kernel': 'linear'}\n"
     ]
    },
    {
     "data": {
      "text/plain": [
       "0.7481559536354057"
      ]
     },
     "execution_count": 12,
     "metadata": {},
     "output_type": "execute_result"
    }
   ],
   "source": [
    "from sklearn.svm import SVC\n",
    "\n",
    "param_grid = {'kernel':['linear', 'poly', 'rbf', 'sigmoid'],\n",
    "              'C':[10,1,0.1,0.01],\n",
    "              'gamma':['scale','auto']}\n",
    "\n",
    "svc = SVC(random_state=42)\n",
    "\n",
    "grid_svc=GridSearchCV(SVC(),param_grid=param_grid,cv=5,verbose=True)\n",
    "grid_svc.fit(scaled_X_train,y_train)\n",
    "print(grid_svc.best_params_)\n",
    "f1_score(y_train,grid_svc.predict(scaled_X_train),average='micro')"
   ]
  },
  {
   "cell_type": "code",
   "execution_count": 13,
   "id": "5ddf10f6",
   "metadata": {
    "execution": {
     "iopub.execute_input": "2022-09-11T17:29:57.111173Z",
     "iopub.status.busy": "2022-09-11T17:29:57.110294Z",
     "iopub.status.idle": "2022-09-11T17:30:02.469331Z",
     "shell.execute_reply": "2022-09-11T17:30:02.467278Z"
    },
    "papermill": {
     "duration": 5.371594,
     "end_time": "2022-09-11T17:30:02.472632",
     "exception": false,
     "start_time": "2022-09-11T17:29:57.101038",
     "status": "completed"
    },
    "tags": []
   },
   "outputs": [
    {
     "name": "stdout",
     "output_type": "stream",
     "text": [
      "Fitting 5 folds for each of 108 candidates, totalling 540 fits\n",
      "{'criterion': 'gini', 'max_depth': 5, 'max_features': None, 'min_samples_split': 6, 'splitter': 'best'}\n"
     ]
    },
    {
     "data": {
      "text/plain": [
       "0.7457850368809275"
      ]
     },
     "execution_count": 13,
     "metadata": {},
     "output_type": "execute_result"
    }
   ],
   "source": [
    "from sklearn.tree import DecisionTreeClassifier\n",
    "\n",
    "param_grid = {'splitter':['best','random'],\n",
    "              'criterion':['gini','entropy'],\n",
    "              'max_depth':[3,5,7],\n",
    "              'min_samples_split':[2,4,6],\n",
    "              'max_features':['sqrt','log2',None]}\n",
    "\n",
    "dtc = DecisionTreeClassifier(random_state=42)\n",
    "\n",
    "grid_dtc=GridSearchCV(dtc,param_grid=param_grid,cv=5,verbose=True)\n",
    "grid_dtc.fit(scaled_X_train,y_train)\n",
    "print(grid_dtc.best_params_)\n",
    "f1_score(y_train,grid_dtc.predict(scaled_X_train),average='micro')"
   ]
  },
  {
   "cell_type": "code",
   "execution_count": 14,
   "id": "ecfc6348",
   "metadata": {
    "execution": {
     "iopub.execute_input": "2022-09-11T17:30:02.492690Z",
     "iopub.status.busy": "2022-09-11T17:30:02.492301Z",
     "iopub.status.idle": "2022-09-11T17:31:20.089714Z",
     "shell.execute_reply": "2022-09-11T17:31:20.088584Z"
    },
    "papermill": {
     "duration": 77.619465,
     "end_time": "2022-09-11T17:31:20.101304",
     "exception": false,
     "start_time": "2022-09-11T17:30:02.481839",
     "status": "completed"
    },
    "tags": []
   },
   "outputs": [
    {
     "name": "stdout",
     "output_type": "stream",
     "text": [
      "Fitting 5 folds for each of 18 candidates, totalling 90 fits\n",
      "{'criterion': 'gini', 'min_samples_split': 6, 'n_estimators': 150}\n"
     ]
    },
    {
     "data": {
      "text/plain": [
       "0.9799789251844047"
      ]
     },
     "execution_count": 14,
     "metadata": {},
     "output_type": "execute_result"
    }
   ],
   "source": [
    "from sklearn.ensemble import RandomForestClassifier\n",
    "\n",
    "param_grid = {'n_estimators':[50,100,150],\n",
    "              'criterion':['gini','entropy'],\n",
    "              'min_samples_split':[2,4,6]}\n",
    "\n",
    "rfc = RandomForestClassifier(random_state=42)\n",
    "\n",
    "grid_rfc=GridSearchCV(rfc,param_grid=param_grid,cv=5,verbose=True)\n",
    "grid_rfc.fit(scaled_X_train,y_train)\n",
    "print(grid_rfc.best_params_)\n",
    "f1_score(y_train,grid_rfc.predict(scaled_X_train),average='micro')"
   ]
  },
  {
   "cell_type": "code",
   "execution_count": 15,
   "id": "723d4d12",
   "metadata": {
    "execution": {
     "iopub.execute_input": "2022-09-11T17:31:20.120359Z",
     "iopub.status.busy": "2022-09-11T17:31:20.119563Z",
     "iopub.status.idle": "2022-09-11T17:32:05.456950Z",
     "shell.execute_reply": "2022-09-11T17:32:05.455624Z"
    },
    "papermill": {
     "duration": 45.357393,
     "end_time": "2022-09-11T17:32:05.467154",
     "exception": false,
     "start_time": "2022-09-11T17:31:20.109761",
     "status": "completed"
    },
    "tags": []
   },
   "outputs": [
    {
     "data": {
      "text/plain": [
       "0.8350895679662803"
      ]
     },
     "execution_count": 15,
     "metadata": {},
     "output_type": "execute_result"
    }
   ],
   "source": [
    "from sklearn.ensemble import BaggingClassifier\n",
    "\n",
    "b1_clf = BaggingClassifier(base_estimator=svc, n_estimators=50, random_state=42).fit(scaled_X_train,y_train)\n",
    "f1_score(y_train,b1_clf.predict(scaled_X_train),average='micro')"
   ]
  },
  {
   "cell_type": "code",
   "execution_count": 16,
   "id": "20d18569",
   "metadata": {
    "execution": {
     "iopub.execute_input": "2022-09-11T17:32:05.486626Z",
     "iopub.status.busy": "2022-09-11T17:32:05.486076Z",
     "iopub.status.idle": "2022-09-11T17:32:07.905876Z",
     "shell.execute_reply": "2022-09-11T17:32:07.904449Z"
    },
    "papermill": {
     "duration": 2.432583,
     "end_time": "2022-09-11T17:32:07.908415",
     "exception": false,
     "start_time": "2022-09-11T17:32:05.475832",
     "status": "completed"
    },
    "tags": []
   },
   "outputs": [
    {
     "data": {
      "text/plain": [
       "0.9997365648050579"
      ]
     },
     "execution_count": 16,
     "metadata": {},
     "output_type": "execute_result"
    }
   ],
   "source": [
    "b2_clf = BaggingClassifier(base_estimator=dtc, n_estimators=50, random_state=42).fit(scaled_X_train,y_train)\n",
    "f1_score(y_train,b2_clf.predict(scaled_X_train),average='micro')"
   ]
  },
  {
   "cell_type": "code",
   "execution_count": 17,
   "id": "56968ddc",
   "metadata": {
    "execution": {
     "iopub.execute_input": "2022-09-11T17:32:07.928521Z",
     "iopub.status.busy": "2022-09-11T17:32:07.927516Z",
     "iopub.status.idle": "2022-09-11T17:32:45.500988Z",
     "shell.execute_reply": "2022-09-11T17:32:45.499709Z"
    },
    "papermill": {
     "duration": 37.594373,
     "end_time": "2022-09-11T17:32:45.511836",
     "exception": false,
     "start_time": "2022-09-11T17:32:07.917463",
     "status": "completed"
    },
    "tags": []
   },
   "outputs": [
    {
     "data": {
      "text/plain": [
       "0.9789251844046365"
      ]
     },
     "execution_count": 17,
     "metadata": {},
     "output_type": "execute_result"
    }
   ],
   "source": [
    "b3_clf = BaggingClassifier(base_estimator=rfc, n_estimators=50, random_state=42).fit(scaled_X_train,y_train)\n",
    "f1_score(y_train,b3_clf.predict(scaled_X_train),average='micro')"
   ]
  },
  {
   "cell_type": "code",
   "execution_count": 18,
   "id": "fc50b652",
   "metadata": {
    "execution": {
     "iopub.execute_input": "2022-09-11T17:32:45.532258Z",
     "iopub.status.busy": "2022-09-11T17:32:45.530855Z",
     "iopub.status.idle": "2022-09-11T17:33:03.883685Z",
     "shell.execute_reply": "2022-09-11T17:33:03.882194Z"
    },
    "papermill": {
     "duration": 18.36591,
     "end_time": "2022-09-11T17:33:03.886598",
     "exception": false,
     "start_time": "2022-09-11T17:32:45.520688",
     "status": "completed"
    },
    "tags": []
   },
   "outputs": [
    {
     "name": "stdout",
     "output_type": "stream",
     "text": [
      "Fitting 5 folds for each of 6 candidates, totalling 30 fits\n",
      "{'learning_rate': 0.5, 'n_estimators': 100}\n"
     ]
    },
    {
     "data": {
      "text/plain": [
       "0.7481559536354057"
      ]
     },
     "execution_count": 18,
     "metadata": {},
     "output_type": "execute_result"
    }
   ],
   "source": [
    "from sklearn.ensemble import AdaBoostClassifier\n",
    "\n",
    "param_grid = {'n_estimators':[50,100],\n",
    "              'learning_rate':[0.5,1,2]}\n",
    "\n",
    "abc = AdaBoostClassifier(random_state = 42)\n",
    "\n",
    "grid_abc=GridSearchCV(abc,param_grid=param_grid,cv=5,verbose=True)\n",
    "grid_abc.fit(scaled_X_train,y_train)\n",
    "print(grid_abc.best_params_)\n",
    "f1_score(y_train,grid_abc.predict(scaled_X_train),average='micro')"
   ]
  },
  {
   "cell_type": "code",
   "execution_count": 19,
   "id": "5154128c",
   "metadata": {
    "execution": {
     "iopub.execute_input": "2022-09-11T17:33:03.907498Z",
     "iopub.status.busy": "2022-09-11T17:33:03.907090Z",
     "iopub.status.idle": "2022-09-11T17:33:03.912305Z",
     "shell.execute_reply": "2022-09-11T17:33:03.910910Z"
    },
    "papermill": {
     "duration": 0.019418,
     "end_time": "2022-09-11T17:33:03.915606",
     "exception": false,
     "start_time": "2022-09-11T17:33:03.896188",
     "status": "completed"
    },
    "tags": []
   },
   "outputs": [],
   "source": [
    "# XGBoost"
   ]
  },
  {
   "cell_type": "code",
   "execution_count": 20,
   "id": "8323a8c6",
   "metadata": {
    "execution": {
     "iopub.execute_input": "2022-09-11T17:33:03.936322Z",
     "iopub.status.busy": "2022-09-11T17:33:03.935854Z",
     "iopub.status.idle": "2022-09-11T17:41:54.257540Z",
     "shell.execute_reply": "2022-09-11T17:41:54.255769Z"
    },
    "papermill": {
     "duration": 530.35788,
     "end_time": "2022-09-11T17:41:54.282842",
     "exception": false,
     "start_time": "2022-09-11T17:33:03.924962",
     "status": "completed"
    },
    "tags": []
   },
   "outputs": [
    {
     "name": "stdout",
     "output_type": "stream",
     "text": [
      "Fitting 5 folds for each of 24 candidates, totalling 120 fits\n"
     ]
    },
    {
     "name": "stderr",
     "output_type": "stream",
     "text": [
      "/opt/conda/lib/python3.7/site-packages/sklearn/neural_network/_multilayer_perceptron.py:696: ConvergenceWarning: Stochastic Optimizer: Maximum iterations (200) reached and the optimization hasn't converged yet.\n",
      "  ConvergenceWarning,\n",
      "/opt/conda/lib/python3.7/site-packages/sklearn/neural_network/_multilayer_perceptron.py:696: ConvergenceWarning: Stochastic Optimizer: Maximum iterations (200) reached and the optimization hasn't converged yet.\n",
      "  ConvergenceWarning,\n",
      "/opt/conda/lib/python3.7/site-packages/sklearn/neural_network/_multilayer_perceptron.py:696: ConvergenceWarning: Stochastic Optimizer: Maximum iterations (200) reached and the optimization hasn't converged yet.\n",
      "  ConvergenceWarning,\n",
      "/opt/conda/lib/python3.7/site-packages/sklearn/neural_network/_multilayer_perceptron.py:696: ConvergenceWarning: Stochastic Optimizer: Maximum iterations (200) reached and the optimization hasn't converged yet.\n",
      "  ConvergenceWarning,\n",
      "/opt/conda/lib/python3.7/site-packages/sklearn/neural_network/_multilayer_perceptron.py:696: ConvergenceWarning: Stochastic Optimizer: Maximum iterations (200) reached and the optimization hasn't converged yet.\n",
      "  ConvergenceWarning,\n",
      "/opt/conda/lib/python3.7/site-packages/sklearn/neural_network/_multilayer_perceptron.py:696: ConvergenceWarning: Stochastic Optimizer: Maximum iterations (200) reached and the optimization hasn't converged yet.\n",
      "  ConvergenceWarning,\n",
      "/opt/conda/lib/python3.7/site-packages/sklearn/neural_network/_multilayer_perceptron.py:696: ConvergenceWarning: Stochastic Optimizer: Maximum iterations (200) reached and the optimization hasn't converged yet.\n",
      "  ConvergenceWarning,\n",
      "/opt/conda/lib/python3.7/site-packages/sklearn/neural_network/_multilayer_perceptron.py:696: ConvergenceWarning: Stochastic Optimizer: Maximum iterations (200) reached and the optimization hasn't converged yet.\n",
      "  ConvergenceWarning,\n",
      "/opt/conda/lib/python3.7/site-packages/sklearn/neural_network/_multilayer_perceptron.py:696: ConvergenceWarning: Stochastic Optimizer: Maximum iterations (200) reached and the optimization hasn't converged yet.\n",
      "  ConvergenceWarning,\n",
      "/opt/conda/lib/python3.7/site-packages/sklearn/neural_network/_multilayer_perceptron.py:696: ConvergenceWarning: Stochastic Optimizer: Maximum iterations (200) reached and the optimization hasn't converged yet.\n",
      "  ConvergenceWarning,\n",
      "/opt/conda/lib/python3.7/site-packages/sklearn/neural_network/_multilayer_perceptron.py:696: ConvergenceWarning: Stochastic Optimizer: Maximum iterations (200) reached and the optimization hasn't converged yet.\n",
      "  ConvergenceWarning,\n",
      "/opt/conda/lib/python3.7/site-packages/sklearn/neural_network/_multilayer_perceptron.py:696: ConvergenceWarning: Stochastic Optimizer: Maximum iterations (200) reached and the optimization hasn't converged yet.\n",
      "  ConvergenceWarning,\n",
      "/opt/conda/lib/python3.7/site-packages/sklearn/neural_network/_multilayer_perceptron.py:696: ConvergenceWarning: Stochastic Optimizer: Maximum iterations (200) reached and the optimization hasn't converged yet.\n",
      "  ConvergenceWarning,\n",
      "/opt/conda/lib/python3.7/site-packages/sklearn/neural_network/_multilayer_perceptron.py:696: ConvergenceWarning: Stochastic Optimizer: Maximum iterations (200) reached and the optimization hasn't converged yet.\n",
      "  ConvergenceWarning,\n",
      "/opt/conda/lib/python3.7/site-packages/sklearn/neural_network/_multilayer_perceptron.py:696: ConvergenceWarning: Stochastic Optimizer: Maximum iterations (200) reached and the optimization hasn't converged yet.\n",
      "  ConvergenceWarning,\n",
      "/opt/conda/lib/python3.7/site-packages/sklearn/neural_network/_multilayer_perceptron.py:696: ConvergenceWarning: Stochastic Optimizer: Maximum iterations (200) reached and the optimization hasn't converged yet.\n",
      "  ConvergenceWarning,\n",
      "/opt/conda/lib/python3.7/site-packages/sklearn/neural_network/_multilayer_perceptron.py:696: ConvergenceWarning: Stochastic Optimizer: Maximum iterations (200) reached and the optimization hasn't converged yet.\n",
      "  ConvergenceWarning,\n",
      "/opt/conda/lib/python3.7/site-packages/sklearn/neural_network/_multilayer_perceptron.py:696: ConvergenceWarning: Stochastic Optimizer: Maximum iterations (200) reached and the optimization hasn't converged yet.\n",
      "  ConvergenceWarning,\n",
      "/opt/conda/lib/python3.7/site-packages/sklearn/neural_network/_multilayer_perceptron.py:696: ConvergenceWarning: Stochastic Optimizer: Maximum iterations (200) reached and the optimization hasn't converged yet.\n",
      "  ConvergenceWarning,\n",
      "/opt/conda/lib/python3.7/site-packages/sklearn/neural_network/_multilayer_perceptron.py:696: ConvergenceWarning: Stochastic Optimizer: Maximum iterations (200) reached and the optimization hasn't converged yet.\n",
      "  ConvergenceWarning,\n",
      "/opt/conda/lib/python3.7/site-packages/sklearn/neural_network/_multilayer_perceptron.py:696: ConvergenceWarning: Stochastic Optimizer: Maximum iterations (200) reached and the optimization hasn't converged yet.\n",
      "  ConvergenceWarning,\n",
      "/opt/conda/lib/python3.7/site-packages/sklearn/neural_network/_multilayer_perceptron.py:696: ConvergenceWarning: Stochastic Optimizer: Maximum iterations (200) reached and the optimization hasn't converged yet.\n",
      "  ConvergenceWarning,\n",
      "/opt/conda/lib/python3.7/site-packages/sklearn/neural_network/_multilayer_perceptron.py:696: ConvergenceWarning: Stochastic Optimizer: Maximum iterations (200) reached and the optimization hasn't converged yet.\n",
      "  ConvergenceWarning,\n",
      "/opt/conda/lib/python3.7/site-packages/sklearn/neural_network/_multilayer_perceptron.py:696: ConvergenceWarning: Stochastic Optimizer: Maximum iterations (200) reached and the optimization hasn't converged yet.\n",
      "  ConvergenceWarning,\n",
      "/opt/conda/lib/python3.7/site-packages/sklearn/neural_network/_multilayer_perceptron.py:696: ConvergenceWarning: Stochastic Optimizer: Maximum iterations (200) reached and the optimization hasn't converged yet.\n",
      "  ConvergenceWarning,\n",
      "/opt/conda/lib/python3.7/site-packages/sklearn/neural_network/_multilayer_perceptron.py:696: ConvergenceWarning: Stochastic Optimizer: Maximum iterations (200) reached and the optimization hasn't converged yet.\n",
      "  ConvergenceWarning,\n",
      "/opt/conda/lib/python3.7/site-packages/sklearn/neural_network/_multilayer_perceptron.py:696: ConvergenceWarning: Stochastic Optimizer: Maximum iterations (200) reached and the optimization hasn't converged yet.\n",
      "  ConvergenceWarning,\n",
      "/opt/conda/lib/python3.7/site-packages/sklearn/neural_network/_multilayer_perceptron.py:696: ConvergenceWarning: Stochastic Optimizer: Maximum iterations (200) reached and the optimization hasn't converged yet.\n",
      "  ConvergenceWarning,\n",
      "/opt/conda/lib/python3.7/site-packages/sklearn/neural_network/_multilayer_perceptron.py:696: ConvergenceWarning: Stochastic Optimizer: Maximum iterations (200) reached and the optimization hasn't converged yet.\n",
      "  ConvergenceWarning,\n",
      "/opt/conda/lib/python3.7/site-packages/sklearn/neural_network/_multilayer_perceptron.py:696: ConvergenceWarning: Stochastic Optimizer: Maximum iterations (200) reached and the optimization hasn't converged yet.\n",
      "  ConvergenceWarning,\n",
      "/opt/conda/lib/python3.7/site-packages/sklearn/neural_network/_multilayer_perceptron.py:696: ConvergenceWarning: Stochastic Optimizer: Maximum iterations (200) reached and the optimization hasn't converged yet.\n",
      "  ConvergenceWarning,\n",
      "/opt/conda/lib/python3.7/site-packages/sklearn/neural_network/_multilayer_perceptron.py:696: ConvergenceWarning: Stochastic Optimizer: Maximum iterations (200) reached and the optimization hasn't converged yet.\n",
      "  ConvergenceWarning,\n",
      "/opt/conda/lib/python3.7/site-packages/sklearn/neural_network/_multilayer_perceptron.py:696: ConvergenceWarning: Stochastic Optimizer: Maximum iterations (200) reached and the optimization hasn't converged yet.\n",
      "  ConvergenceWarning,\n",
      "/opt/conda/lib/python3.7/site-packages/sklearn/neural_network/_multilayer_perceptron.py:696: ConvergenceWarning: Stochastic Optimizer: Maximum iterations (200) reached and the optimization hasn't converged yet.\n",
      "  ConvergenceWarning,\n",
      "/opt/conda/lib/python3.7/site-packages/sklearn/neural_network/_multilayer_perceptron.py:696: ConvergenceWarning: Stochastic Optimizer: Maximum iterations (200) reached and the optimization hasn't converged yet.\n",
      "  ConvergenceWarning,\n",
      "/opt/conda/lib/python3.7/site-packages/sklearn/neural_network/_multilayer_perceptron.py:696: ConvergenceWarning: Stochastic Optimizer: Maximum iterations (200) reached and the optimization hasn't converged yet.\n",
      "  ConvergenceWarning,\n",
      "/opt/conda/lib/python3.7/site-packages/sklearn/neural_network/_multilayer_perceptron.py:696: ConvergenceWarning: Stochastic Optimizer: Maximum iterations (200) reached and the optimization hasn't converged yet.\n",
      "  ConvergenceWarning,\n",
      "/opt/conda/lib/python3.7/site-packages/sklearn/neural_network/_multilayer_perceptron.py:696: ConvergenceWarning: Stochastic Optimizer: Maximum iterations (200) reached and the optimization hasn't converged yet.\n",
      "  ConvergenceWarning,\n",
      "/opt/conda/lib/python3.7/site-packages/sklearn/neural_network/_multilayer_perceptron.py:696: ConvergenceWarning: Stochastic Optimizer: Maximum iterations (200) reached and the optimization hasn't converged yet.\n",
      "  ConvergenceWarning,\n",
      "/opt/conda/lib/python3.7/site-packages/sklearn/neural_network/_multilayer_perceptron.py:696: ConvergenceWarning: Stochastic Optimizer: Maximum iterations (200) reached and the optimization hasn't converged yet.\n",
      "  ConvergenceWarning,\n",
      "/opt/conda/lib/python3.7/site-packages/sklearn/neural_network/_multilayer_perceptron.py:696: ConvergenceWarning: Stochastic Optimizer: Maximum iterations (200) reached and the optimization hasn't converged yet.\n",
      "  ConvergenceWarning,\n",
      "/opt/conda/lib/python3.7/site-packages/sklearn/neural_network/_multilayer_perceptron.py:696: ConvergenceWarning: Stochastic Optimizer: Maximum iterations (200) reached and the optimization hasn't converged yet.\n",
      "  ConvergenceWarning,\n",
      "/opt/conda/lib/python3.7/site-packages/sklearn/neural_network/_multilayer_perceptron.py:696: ConvergenceWarning: Stochastic Optimizer: Maximum iterations (200) reached and the optimization hasn't converged yet.\n",
      "  ConvergenceWarning,\n",
      "/opt/conda/lib/python3.7/site-packages/sklearn/neural_network/_multilayer_perceptron.py:696: ConvergenceWarning: Stochastic Optimizer: Maximum iterations (200) reached and the optimization hasn't converged yet.\n",
      "  ConvergenceWarning,\n",
      "/opt/conda/lib/python3.7/site-packages/sklearn/neural_network/_multilayer_perceptron.py:696: ConvergenceWarning: Stochastic Optimizer: Maximum iterations (200) reached and the optimization hasn't converged yet.\n",
      "  ConvergenceWarning,\n"
     ]
    },
    {
     "name": "stdout",
     "output_type": "stream",
     "text": [
      "{'activation': 'logistic', 'learning_rate': 'constant', 'solver': 'adam'}\n"
     ]
    },
    {
     "name": "stderr",
     "output_type": "stream",
     "text": [
      "/opt/conda/lib/python3.7/site-packages/sklearn/neural_network/_multilayer_perceptron.py:696: ConvergenceWarning: Stochastic Optimizer: Maximum iterations (200) reached and the optimization hasn't converged yet.\n",
      "  ConvergenceWarning,\n"
     ]
    },
    {
     "data": {
      "text/plain": [
       "0.797154899894626"
      ]
     },
     "execution_count": 20,
     "metadata": {},
     "output_type": "execute_result"
    }
   ],
   "source": [
    "# # MLP\n",
    "from sklearn.neural_network import MLPClassifier\n",
    "\n",
    "param_grid = {'solver':['adam','lbfgs'],\n",
    "              'learning_rate':['constant','adaptive','invscaling'],\n",
    "              'activation':['identity', 'logistic', 'tanh', 'relu']\n",
    "             }\n",
    "\n",
    "MLP_clf = MLPClassifier(random_state=42, warm_start=True)\n",
    "\n",
    "grid_mlp=GridSearchCV(MLP_clf,param_grid=param_grid,cv=5,verbose=True)\n",
    "grid_mlp.fit(scaled_X_train,y_train)\n",
    "print(grid_mlp.best_params_)\n",
    "f1_score(y_train,grid_mlp.predict(scaled_X_train),average='micro')"
   ]
  },
  {
   "cell_type": "code",
   "execution_count": 21,
   "id": "3e3a82bb",
   "metadata": {
    "execution": {
     "iopub.execute_input": "2022-09-11T17:41:54.345519Z",
     "iopub.status.busy": "2022-09-11T17:41:54.345126Z",
     "iopub.status.idle": "2022-09-11T17:41:54.433719Z",
     "shell.execute_reply": "2022-09-11T17:41:54.432377Z"
    },
    "papermill": {
     "duration": 0.123388,
     "end_time": "2022-09-11T17:41:54.436501",
     "exception": false,
     "start_time": "2022-09-11T17:41:54.313113",
     "status": "completed"
    },
    "tags": []
   },
   "outputs": [],
   "source": [
    "preds = grid_rfc.predict(scaled_X_test)\n",
    "test['label'] = preds\n",
    "df = {'id': test['id'], 'label': test['label']}\n",
    "df = pd.DataFrame(data=df)\n",
    "df.to_csv('submission.csv',index=False)"
   ]
  },
  {
   "cell_type": "code",
   "execution_count": 22,
   "id": "14979ae3",
   "metadata": {
    "execution": {
     "iopub.execute_input": "2022-09-11T17:41:54.463129Z",
     "iopub.status.busy": "2022-09-11T17:41:54.462335Z",
     "iopub.status.idle": "2022-09-11T17:41:54.473809Z",
     "shell.execute_reply": "2022-09-11T17:41:54.472748Z"
    },
    "papermill": {
     "duration": 0.027362,
     "end_time": "2022-09-11T17:41:54.476052",
     "exception": false,
     "start_time": "2022-09-11T17:41:54.448690",
     "status": "completed"
    },
    "tags": []
   },
   "outputs": [
    {
     "data": {
      "text/html": [
       "<div>\n",
       "<style scoped>\n",
       "    .dataframe tbody tr th:only-of-type {\n",
       "        vertical-align: middle;\n",
       "    }\n",
       "\n",
       "    .dataframe tbody tr th {\n",
       "        vertical-align: top;\n",
       "    }\n",
       "\n",
       "    .dataframe thead th {\n",
       "        text-align: right;\n",
       "    }\n",
       "</style>\n",
       "<table border=\"1\" class=\"dataframe\">\n",
       "  <thead>\n",
       "    <tr style=\"text-align: right;\">\n",
       "      <th></th>\n",
       "      <th>id</th>\n",
       "      <th>label</th>\n",
       "    </tr>\n",
       "  </thead>\n",
       "  <tbody>\n",
       "    <tr>\n",
       "      <th>0</th>\n",
       "      <td>0</td>\n",
       "      <td>1</td>\n",
       "    </tr>\n",
       "    <tr>\n",
       "      <th>1</th>\n",
       "      <td>1</td>\n",
       "      <td>1</td>\n",
       "    </tr>\n",
       "    <tr>\n",
       "      <th>2</th>\n",
       "      <td>2</td>\n",
       "      <td>1</td>\n",
       "    </tr>\n",
       "    <tr>\n",
       "      <th>3</th>\n",
       "      <td>3</td>\n",
       "      <td>1</td>\n",
       "    </tr>\n",
       "    <tr>\n",
       "      <th>4</th>\n",
       "      <td>4</td>\n",
       "      <td>1</td>\n",
       "    </tr>\n",
       "    <tr>\n",
       "      <th>...</th>\n",
       "      <td>...</td>\n",
       "      <td>...</td>\n",
       "    </tr>\n",
       "    <tr>\n",
       "      <th>1623</th>\n",
       "      <td>1623</td>\n",
       "      <td>0</td>\n",
       "    </tr>\n",
       "    <tr>\n",
       "      <th>1624</th>\n",
       "      <td>1624</td>\n",
       "      <td>1</td>\n",
       "    </tr>\n",
       "    <tr>\n",
       "      <th>1625</th>\n",
       "      <td>1625</td>\n",
       "      <td>0</td>\n",
       "    </tr>\n",
       "    <tr>\n",
       "      <th>1626</th>\n",
       "      <td>1626</td>\n",
       "      <td>0</td>\n",
       "    </tr>\n",
       "    <tr>\n",
       "      <th>1627</th>\n",
       "      <td>1627</td>\n",
       "      <td>0</td>\n",
       "    </tr>\n",
       "  </tbody>\n",
       "</table>\n",
       "<p>1628 rows × 2 columns</p>\n",
       "</div>"
      ],
      "text/plain": [
       "        id  label\n",
       "0        0      1\n",
       "1        1      1\n",
       "2        2      1\n",
       "3        3      1\n",
       "4        4      1\n",
       "...    ...    ...\n",
       "1623  1623      0\n",
       "1624  1624      1\n",
       "1625  1625      0\n",
       "1626  1626      0\n",
       "1627  1627      0\n",
       "\n",
       "[1628 rows x 2 columns]"
      ]
     },
     "execution_count": 22,
     "metadata": {},
     "output_type": "execute_result"
    }
   ],
   "source": [
    "df"
   ]
  }
 ],
 "metadata": {
  "kernelspec": {
   "display_name": "Python 3",
   "language": "python",
   "name": "python3"
  },
  "language_info": {
   "codemirror_mode": {
    "name": "ipython",
    "version": 3
   },
   "file_extension": ".py",
   "mimetype": "text/x-python",
   "name": "python",
   "nbconvert_exporter": "python",
   "pygments_lexer": "ipython3",
   "version": "3.7.12"
  },
  "papermill": {
   "default_parameters": {},
   "duration": 998.787875,
   "end_time": "2022-09-11T17:41:55.312206",
   "environment_variables": {},
   "exception": null,
   "input_path": "__notebook__.ipynb",
   "output_path": "__notebook__.ipynb",
   "parameters": {},
   "start_time": "2022-09-11T17:25:16.524331",
   "version": "2.3.4"
  }
 },
 "nbformat": 4,
 "nbformat_minor": 5
}
